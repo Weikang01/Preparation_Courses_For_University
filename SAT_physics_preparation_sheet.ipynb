{
  "nbformat": 4,
  "nbformat_minor": 0,
  "metadata": {
    "colab": {
      "name": "SAT physics preparation sheet.ipynb",
      "provenance": [],
      "collapsed_sections": [],
      "authorship_tag": "ABX9TyPp6PnspUBX1AswNypIpcPn",
      "include_colab_link": true
    },
    "kernelspec": {
      "name": "python3",
      "display_name": "Python 3"
    }
  },
  "cells": [
    {
      "cell_type": "markdown",
      "metadata": {
        "id": "view-in-github",
        "colab_type": "text"
      },
      "source": [
        "<a href=\"https://colab.research.google.com/github/Weikang01/Preparation_Courses_For_University/blob/master/SAT_physics_preparation_sheet.ipynb\" target=\"_parent\"><img src=\"https://colab.research.google.com/assets/colab-badge.svg\" alt=\"Open In Colab\"/></a>"
      ]
    },
    {
      "cell_type": "markdown",
      "metadata": {
        "id": "QTazJoBxq_ZJ",
        "colab_type": "text"
      },
      "source": [
        "https://www.youtube.com/watch?v=kw_4Loo1HR4&list=PLsaui3l-P1ppsDRBpyetAvVSse8ndret8&index=22\n",
        "$$\\require{mhchem}$$"
      ]
    },
    {
      "cell_type": "markdown",
      "metadata": {
        "id": "zi4A1I7b28jS",
        "colab_type": "text"
      },
      "source": [
        "## 1. vectors & scalars\n",
        "* Vectors: magnitude/size AND direction\n",
        "* Scalars: magnitude/size\n"
      ]
    },
    {
      "cell_type": "markdown",
      "metadata": {
        "id": "FG4WO7vR4lWI",
        "colab_type": "text"
      },
      "source": [
        "## 2. Calculating average velocity or spee\n",
        "\n",
        "* if A was able to travel 5 km north in 1 hour in his car. what was his average velocity?\n",
        "$$\\overrightarrow{V}=\\frac{\\overrightarrow{s}}{t}$$ or $$r=\\frac{d}{t}$$ so $$\\overrightarrow{V}=\\frac{5km*north}{1hour}=5km/hournorth$$ $$r=\\frac{5km}{1hour}=5\\frac{km}{hour}$$"
      ]
    },
    {
      "cell_type": "markdown",
      "metadata": {
        "id": "4NXimlZMh4YS",
        "colab_type": "text"
      },
      "source": [
        "## Average velocity for constant acceleration\n",
        "* initial velocity: $\\overrightarrow{V_i}=5m/s$, constant acceleration:$\\overrightarrow{a_c}=2m/s^2$。 so the final velocity in time $\\Delta{t}$ is: \n",
        "$$\\overrightarrow{V_i}+(\\Delta{t})\\overrightarrow{a_c}=\\overrightarrow{V_f}$$\n",
        "* The total displacement is:\n",
        "$$D=\\Delta{t}·\\overrightarrow{V_i}+\\Delta{t}·(\\overrightarrow{V_f}-\\overrightarrow{V_i})·\\frac{1}{2}$$ or\n",
        "$$D=\\frac{1}{2}\\Delta{t}(\\overrightarrow{V_i}+\\overrightarrow{V_f})$$\n",
        "* We can also replace the delta t using the derivative equation from the first equation:\n",
        "$$\\Delta{t}=\\frac{\\overrightarrow{V_f}-\\overrightarrow{V_i}}{\\overrightarrow{a_c}}$$\n",
        "so\n",
        "$$D=\\frac{1}{2}\\frac{\\overrightarrow{V_f}-\\overrightarrow{V_i}}{\\overrightarrow{a_c}}(\\overrightarrow{V_i}+\\overrightarrow{V_f})$$\n",
        "$$2D\\overrightarrow{a_c}=\\overrightarrow{V_f}^2-\\overrightarrow{V_i}^2$$\n",
        "$$\\overrightarrow{V_f}^2=\\overrightarrow{V_i}^2+2D\\overrightarrow{a_c}$$"
      ]
    },
    {
      "cell_type": "markdown",
      "metadata": {
        "id": "pVW78xIXmqIO",
        "colab_type": "text"
      },
      "source": [
        "$$sin\\theta=\\frac{opposite}{hypotenuse}$$\n",
        "$$cos\\theta=\\frac{adjacent}{hypotenuse}$$\n",
        "$$tan\\theta=\\frac{opposite}{adjacent}$$"
      ]
    },
    {
      "cell_type": "markdown",
      "metadata": {
        "id": "laadUTnlquuG",
        "colab_type": "text"
      },
      "source": [
        "## 3. Normal force and contact force\n",
        "\n",
        "* for stationary object on the ground, there are gravity downward:\n",
        "$$\\overrightarrow{F_G}=\\overrightarrow{g}\\times{mass}$$\n",
        "* According to Newton's laws of motion, there are also a force to maintain the object from dropping into the ground, which he called 'normal force'.\n",
        "* The normal force is always perpendicular from the surface. So if object stay on a plain surface that parallel with gravity direction:\n",
        "$$\\overrightarrow{F_N}=\\overrightarrow{g}\\times{mass}$$"
      ]
    },
    {
      "cell_type": "markdown",
      "metadata": {
        "id": "3zBb2nMduzk8",
        "colab_type": "text"
      },
      "source": [
        "## 4. Balanced and unbalanced forces\n",
        "* Balanced forces: when there is no net force."
      ]
    },
    {
      "cell_type": "markdown",
      "metadata": {
        "id": "vv_tfxPtv0pL",
        "colab_type": "text"
      },
      "source": [
        "## Newton's first law of motion\n",
        "* Every body persists in its state of being at rest or of moving uniformly straight forward, except insofar as it is compelled to change its state by force impressed\n",
        "\n",
        "## Newton's Second law\n",
        "* $\\Sigma{\\overrightarrow{F}}=m\\overrightarrow{a}$. m stands for mass, a stands for acceleration$\\Sigma{\\overrightarrow{F}}$ is the net force (sum of forces)\n",
        "\n",
        "## Newton's third law\n",
        "* For every force, there is $\\overrightarrow{F_{AB}}=-\\overrightarrow{F_{BA}}$. Means for every force on object A exerted by object B has a opposite force on object B exerted by object A."
      ]
    },
    {
      "cell_type": "markdown",
      "metadata": {
        "id": "K0JCFVrL33Rd",
        "colab_type": "text"
      },
      "source": [
        "## 5. work and energy\n",
        "* Work: energy transferred by a force.\n",
        "* Energy: ablity to do work\n",
        "\n",
        "* Work = Force * Distance\n",
        "> ex: apply 10N of force to move a block 7 meters\n",
        "> work = 10N * 7meters\n",
        "> <br>&nbsp;&nbsp;&nbsp;&nbsp;&nbsp;&nbsp;&nbsp;&nbsp;&nbsp;&nbsp;= 70 N.m\n",
        "> <br>&nbsp;&nbsp;&nbsp;&nbsp;&nbsp;&nbsp;&nbsp;&nbsp;&nbsp;&nbsp;= 70 Joule\n",
        "\n",
        "* Assuming we move a block which has a mass of m with the force F:\n",
        "* According to the equation of constant acceleration, we have:\n",
        "$$\\overrightarrow{V_f}^2=\\overrightarrow{V_i}^2+2d\\cdot{\\overrightarrow{a}}$$\n",
        "since\n",
        "$$w=F\\cdot{d}$$\n",
        "Assuming in this case there is no initial velocity, the equation became:\n",
        "$$\\overrightarrow{V_f}^2=2d\\cdot{\\overrightarrow{a}}$$\n",
        "according to the Newton's second law:\n",
        "$$F=ma\\Rightarrow{a=\\frac{F}{m}}$$\n",
        "so\n",
        "$$\\overrightarrow{V_f}^2=2d\\cdot{\\frac{F}{m}}$$\n",
        "$$\\overrightarrow{V_f}=\\sqrt{2\\cdot{\\frac{F\\cdot{d}}{m}}}$$\n",
        "$$\\overrightarrow{V_f}^2=\\frac{2\\cdot{w}}{m}$$\n",
        "$$2\\cdot{w}=m\\cdot{\\overrightarrow{V_f}^2}$$\n",
        "Thus, we can figure out how much work was imputed into that object to get it to that velocity from stationary by knowing its mass.<br><br>\n",
        "This is called the formula of kinetic energy:\n",
        "$$w=K=\\frac{m\\cdot{\\overrightarrow{V_f}^2}}{2}$$"
      ]
    },
    {
      "cell_type": "markdown",
      "metadata": {
        "id": "0zMOubyHMX4J",
        "colab_type": "text"
      },
      "source": [
        "## 6. Power\n",
        "> Let's assume that two liftwighters lift same amount of weight(100kg) to same height(2m), but one lifts faster than the other.\n",
        "\n",
        "* They are all making the same amount of work.$w=mgh$, in this case $w=100kg\\cdot{9.8N}\\cdot{2m}=1960J$\n",
        "* But how to measure the difference between two liftwighters?\n",
        "* Power: measure the rate does work\n",
        "> Power=work/time\n",
        "\n",
        "* So, if the first one lift the weight using 3 seconds of time:\n",
        "$$P=\\frac{1960J}{3sec}=653J/s$$\n",
        "* joule/sec=watt, or J/s=W.\n",
        "* get instantaneous power: instantaneous power is the power generated in a very small fragment of time$\\Delta{t}\\rightarrow0$\n",
        "$$Power_I=\\frac{Work}{time}=\\frac{Fdcos\\theta}{t}=F\\frac{d}{t}cos\\theta=Fvcos\\theta$$in this case, $\\cos\\theta$is the direction of the force F, but mostly, the direction of the force is equal to the direction as the velocity. So it can also be simplified as $$Power_I=Fv$$\n"
      ]
    },
    {
      "cell_type": "markdown",
      "metadata": {
        "id": "rDRfgiwibuKI",
        "colab_type": "text"
      },
      "source": [
        "## 7. Momentum\n",
        "* sign of momentum: P\n",
        "* definition: P=mass$\\cdot$velocity\n",
        "  * F=mass$\\cdot$acceleration\n",
        "  * F=mass$\\cdot\\frac{\\Delta{velocity}}{\\Delta{time}}$\n",
        "  * F=$\\frac{\\Delta{(mass\\cdot{velocity})}}{\\Delta{time}}$\n",
        "  * F=$\\frac{\\Delta{P}}{\\Delta{time}}$\n",
        "  * F$\\cdot{\\Delta{time}}$=impulse\n",
        "  * $\\frac{\\Delta{P}}{\\Delta{time}}\\cdot{\\Delta{time}}$=impulse\n",
        "  * $\\Delta$P=impulse(Joule)\n",
        "\n",
        "* Challenge01:\n",
        "  * a car: 1000kg, v=9m/s strike a 2000kg, stationary truck. calculate the speed after they stucked together.\n",
        "  * 1. calculate the momentum before the strike:\n",
        "  $$P_c=m_c\\cdot{v_c}=1000kg\\cdot{9m/s}=9000kg\\cdot{m}/s$$\n",
        "  $$P_t=m_t\\cdot{v_t}=2000kg\\cdot{0m/s}=0kg\\cdot{m}/s$$\n",
        "  $$\\sum_i^t{P}=9000kg\\cdot{m}/s$$\n",
        "  * 2. assume that there are not parts lose or more complicated situations, the sum of power after the strike should be the same as the sum of power before.\n",
        "  $$\\sum{P_{before}}=\\sum{P_{after}}$$so the total mass of the combination of two vehicles are 1000+2000=3000kg.<br>thus,\n",
        "  $$3000kg\\cdot{V_{after}}=9000kg\\cdot{m}/s$$\n",
        "  $$V_{after}=3m/s$$"
      ]
    },
    {
      "cell_type": "markdown",
      "metadata": {
        "id": "gFGfW-y-hTqf",
        "colab_type": "text"
      },
      "source": [
        "## 8. Elastic and inelastic collisions\n",
        "* Elastic: total kinetic Energy is conserved (constant)\n",
        "  * $K_{bi}+K_{si}=K_{bf}+K_{sf}$\n",
        "* Inelastic: total kinetic Energy is NOT conserved (constant)\n",
        "  * $K_{bi}+K_{si}\\neq{},generally\\gt{}K_{bf}+K_{sf}$\n",
        "* assume a basketball strike to a ice cream scoop, if the scoop rigid enough, their collision would be similar to elastic energy. If the scoop splatters into the basketball, and the atoms and molecules that make up the ice cream scoop. They use to chained with each other by electromagnetic and chemical bonds. After the collision happens, atoms and molecules will start oscillating more than it was and the kinetic energy of the whole ice cream scoop will turned into thermal energy. So if the ice cream became colder and stiffer, it will be more elastic.<br>When we say kinetic energy, we are saying the macroscopical object, not every atoms etc.\n",
        "* perfectly elastic: no energy loss\n",
        "* perfectly inelastic: after the collision, two objects sticked together and move off together.\n",
        "* momentum will conserved in both elastic/inelastic collisions. Because atoms and molecules oscillate randomly so they cancelled out, as momentum is a vector, that equals no momentum been added or subtracted."
      ]
    },
    {
      "cell_type": "markdown",
      "metadata": {
        "id": "IgCyqYljrH50",
        "colab_type": "text"
      },
      "source": [
        "## 9. Conservation of energy\n",
        "* assuming there is a block weights 1kg at 10m height. the gravity here is 10m/s. its gravitational potential energy is equal to:$PE=m\\cdot{g}\\cdot{h}=1\\times10\\times10=100J$\n",
        "* when the block drop down and hits the ground, what will be the potential energy of the object?\n",
        "* since height is gone, so the PE is 0J.\n",
        "* what the PE is converted into?\n",
        "* is kinetic energy\n",
        "* calcular the speed right before the block hits the ground:\n",
        "* $PE\\Rightarrow{K}=\\frac{m\\cdot{v}^2}{2}$\n",
        "* $100J\\Rightarrow{100J}$\n",
        "* $\\frac{1}{2}\\cdot{10kg}\\cdot{v^2}=100J$\n",
        "* $v=14.1m/s^2$\n",
        "* assuming there are is a ice slideway (frictionless) down below the block, when the block consume its all GPE, what is the kinematic energy?\n",
        "* the kinematic energy will still = GPE = 100J, and the speed of block will also still be 14.1m/s2.\n",
        "* when the block sliding on the way and 5 meters from the ground, what is the potential energy in that moment?<br>since\n",
        "$$PE_i+KE_i=PE_f+KE_f=100J$$\n",
        "so when the block is 5 meters up\n",
        "$$PE_h=1kg\\times10m/s\\times5m=50J$$\n",
        "so\n",
        "$$KE_h=100J-PE_h=50J$$"
      ]
    },
    {
      "cell_type": "markdown",
      "metadata": {
        "id": "CIPdXk4sxbO1",
        "colab_type": "text"
      },
      "source": [
        "## 10. Centripetal force and gravitation\n",
        "* when a string causing a ball to rotate in a circle, what cause the ball totate in a circle?\n",
        "* centripetal force=force that points toward center of circle. so its not a accurate answer\n",
        "* is tension the centripetal force in this case\n",
        "  * radio centripetal acceleration: $a_c=\\frac{V^2}{r}$, so $a_c=\\frac{\\sum{F_c}}{m}$ when comes to the centripetal direction $\\frac{V^2}{r}=\\frac{\\sum{F_c}}{m}$. Since in this case, there are gravity force, the normal force and the tension force, but the tension force is the only force point not orthographic the center of the trajectory, so $\\frac{V^2}{r}=\\frac{\\sum{F_c}}{m}=\\frac{F_t}{m}$\n",
        "  * In case of centripetal acceleration, the force pointed to the center is positive, otherwise is negative."
      ]
    },
    {
      "cell_type": "markdown",
      "metadata": {
        "id": "_z6tJZMXjayX",
        "colab_type": "text"
      },
      "source": [
        "## 11. springs and Hooke's law\n",
        "* strain in a solid is proportional to the applied stress within the elastic limit of that solid.\n",
        "\n",
        "* if compress the spring for 5 N, assume that the spring shorterned 10m, and if compress for 10 N the spring shortered 20m. This is the linear relationship within the elastic limit.\n",
        "* The restoring force of the spring is minus some force times the displacement of the spring.\n",
        "* f=-Kx,x stand for the force added to the spring.\n",
        "* in this case, if we assume that the direction to compress the spring is negative, then:$x=-10m$, then the restoring force=$-K\\cdot{=10}=10K$\n",
        "* because the force to compress the spring to 10m is 5N, so if the spring was stationary when it's been compressed, it should have a equal and opposive force of positive 5N.\n",
        "* because otherwise the spring will keep compressing or stretching to the other direction rather than keep stationary.\n",
        "* so $f=5N=10K$, thus $K=\\frac{1}{2}$\n",
        "* the hooke's law equation: $F=-Kx$ where K is the spring constant, x is the displacement.F is the restorating force."
      ]
    },
    {
      "cell_type": "markdown",
      "metadata": {
        "id": "qPjs-TrCC3LM",
        "colab_type": "text"
      },
      "source": [
        "## 11.5 Potential energy stored in a spring\n",
        "* assume there is a spring, in order to compress it x unit of length, how much force I need?\n",
        "* as Hooke's law said the restorative force is: $$F_r=-Kx$$\n",
        "then the force of compression: \n",
        "$$F_c=Kx$$\n",
        "since \n",
        "$$w=F\\cdot{d}$$\n",
        "so since when we pushing the spring, the force is constantly linearly increasing. we can suppose that the work is equal to the area of a rectangle with the wide of the distance and k times distance of height.\n",
        "$$w=\\frac{1}{2}F_c\\cdot{x}$$"
      ]
    },
    {
      "cell_type": "markdown",
      "metadata": {
        "id": "wHwy0wRFMFj6",
        "colab_type": "text"
      },
      "source": [
        "## 12. Newton's law of gravitation\n",
        "* the gravity equation shows that the gravity between two objects are equal to the gravitational constant plus the product of two objects' mass devided by the square of their distance\n",
        "$$F=G\\frac{m_1\\cdot{m_2}}{d^2}$$\n",
        "* let's use this formular to get the gravitational acceleration at the surface of the earth for a human.\n",
        "$$G=6.67\\times10^{-11}m^3/(kg\\cdot{s^2})$$\n",
        "and the mass of the earth:\n",
        "$$M_e=5.97\\times{10^{24}}kg$$\n",
        "the radius of the earth (center of mass):\n",
        "$$r_e=6371km=6.371\\times{10^6}m$$\n",
        "so the equation became\n",
        "$$F=6.67\\times{10^{-11}}\\cdot\\frac{m_h\\cdot{5.97\\times{10^{24}}}}{(6.371\\times{10^6})^2}$$\n",
        "$$F=m_h\\cdot{}\\frac{39.82\\times{10^{13}}}{40.58\\times{10^{12}}}=9.81\\times{m_s}=a_g\\cdot{m_s}$$\n",
        "<br>\n",
        "* Let's say there is a other planet called small earth.\n",
        "* its radius is equal to half of those of earth\n",
        "* mass is also half of the earth\n",
        "* how is the gravity force on the surface of this planet?\n",
        "$$F_s=G\\frac{m_h\\cdot{\\frac{1}{2}m_e}}{(\\frac{1}{2}d_e)^2}$$\n",
        "$$F_s=m_h\\frac{F_e}{2}$$\n"
      ]
    },
    {
      "cell_type": "markdown",
      "metadata": {
        "id": "kj0qIz18XC4T",
        "colab_type": "text"
      },
      "source": [
        "## 13. Charge and Coulomb's Law\n",
        "* Charge: two atoms with same kind of charge, they repel each other. if one is negative another positive, they attract.\n",
        "* Charge is a property of particles\n",
        "* like charges repel, opposite attract.\n",
        "* Coulomb: amount of charge.\n",
        "* elementrary charge is a charge of a atom.\n",
        "* e = charge of a proton\n",
        "* -e = charge of electron\n",
        "* these two are fundamental charge\n",
        "* Coulomb, or $\\ce{C=6.24\\times{10^{18}}e}$\n",
        "* so $\\ce{e=1.6\\times{10^{-19}}C}$\n",
        "* so the force between two charges is equal to some constant K times the first charge times the second charge devided by the distant between two charges squared:$$\\ce{\\overleftrightarrow{F_e}=\\frac{Kq_1\\cdot{q_2}}{d^2}}$$\n",
        "* we can see that they are very similar to gravitational force.\n",
        "* the constant $\\ce{K\\approx9\\times{10^9}\\frac{N\\cdot{m^2}}{C^2}}$\n",
        "\n",
        "* Challenge: there are two particles, one has $\\ce{+5\\times10^{-3}C}$ of charge, the other has $\\ce{-10\\times10^{-1}C}$ of charge. Their distance is .5 meters, calculate their force:\n",
        "$$\\ce{\\overleftrightarrow{F_e}=\\frac{9\\times10^9\\times5\\times10^{-3}\\times-10\\times10^{-2}}{0.5^2}}$$\n",
        "$$\\ce{=-180\\times{10^4}N}$$\n",
        "* so if the force between is negative, two parts attract, otherwice repel."
      ]
    },
    {
      "cell_type": "markdown",
      "metadata": {
        "id": "s_8-hggzga7S",
        "colab_type": "text"
      },
      "source": [
        "## Electrostatics\n",
        "* Coulomb's Law\n",
        "* is to describe the interaction between two charges.\n",
        "* the magnitude of the electral static force:\n",
        "$$\\ce{F_{e}=\\frac{Kq_1q_2}{d^2}}$$\n",
        "Newton's law of gravation:\n",
        "$$\\ce{F_{G}=\\frac{Gm_1m_2}{d^2}}$$\n",
        "they are quite similar\n",
        "\n",
        "\n",
        "\n",
        "\n"
      ]
    }
  ]
}