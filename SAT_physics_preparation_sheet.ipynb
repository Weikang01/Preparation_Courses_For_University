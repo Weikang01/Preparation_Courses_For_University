{
  "nbformat": 4,
  "nbformat_minor": 0,
  "metadata": {
    "colab": {
      "name": "SAT physics preparation sheet.ipynb",
      "provenance": [],
      "collapsed_sections": [],
      "authorship_tag": "ABX9TyPOZiM9NTx9Q5InUx4kx9hC",
      "include_colab_link": true
    },
    "kernelspec": {
      "name": "python3",
      "display_name": "Python 3"
    }
  },
  "cells": [
    {
      "cell_type": "markdown",
      "metadata": {
        "id": "view-in-github",
        "colab_type": "text"
      },
      "source": [
        "<a href=\"https://colab.research.google.com/github/Weikang01/Preparation_Courses_For_University/blob/master/SAT_physics_preparation_sheet.ipynb\" target=\"_parent\"><img src=\"https://colab.research.google.com/assets/colab-badge.svg\" alt=\"Open In Colab\"/></a>"
      ]
    },
    {
      "cell_type": "markdown",
      "metadata": {
        "id": "zi4A1I7b28jS",
        "colab_type": "text"
      },
      "source": [
        "## 1. vectors & scalars\n",
        "* Vectors: magnitude/size AND direction\n",
        "* Scalars: magnitude/size\n"
      ]
    },
    {
      "cell_type": "markdown",
      "metadata": {
        "id": "FG4WO7vR4lWI",
        "colab_type": "text"
      },
      "source": [
        "## 2. Calculating average velocity or spee\n",
        "\n",
        "* if A was able to travel 5 km north in 1 hour in his car. what was his average velocity?\n",
        "$$\\overrightarrow{V}=\\frac{\\overrightarrow{s}}{t}$$ or $$r=\\frac{d}{t}$$ so $$\\overrightarrow{V}=\\frac{5km*north}{1hour}=5km/hournorth$$ $$r=\\frac{5km}{1hour}=5\\frac{km}{hour}$$"
      ]
    },
    {
      "cell_type": "markdown",
      "metadata": {
        "id": "4NXimlZMh4YS",
        "colab_type": "text"
      },
      "source": [
        "## Average velocity for constant acceleration\n",
        "* initial velocity: $\\overrightarrow{V_i}=5m/s$, constant acceleration:$\\overrightarrow{a_c}=2m/s^2$。 so the final velocity in time $\\Delta{t}$ is: \n",
        "$$\\overrightarrow{V_i}+(\\Delta{t})\\overrightarrow{a_c}=\\overrightarrow{V_f}$$\n",
        "* The total displacement is:\n",
        "$$D=\\Delta{t}·\\overrightarrow{V_i}+\\Delta{t}·(\\overrightarrow{V_f}-\\overrightarrow{V_i})·\\frac{1}{2}$$ or\n",
        "$$D=\\frac{1}{2}\\Delta{t}(\\overrightarrow{V_i}+\\overrightarrow{V_f})$$\n",
        "* We can also replace the delta t using the derivative equation from the first equation:\n",
        "$$\\Delta{t}=\\frac{\\overrightarrow{V_f}-\\overrightarrow{V_i}}{\\overrightarrow{a_c}}$$\n",
        "so\n",
        "$$D=\\frac{1}{2}\\frac{\\overrightarrow{V_f}-\\overrightarrow{V_i}}{\\overrightarrow{a_c}}(\\overrightarrow{V_i}+\\overrightarrow{V_f})$$\n",
        "$$2D\\overrightarrow{a_c}=\\overrightarrow{V_f}^2-\\overrightarrow{V_i}^2$$\n",
        "$$\\overrightarrow{V_f}^2=\\overrightarrow{V_i}^2+2D\\overrightarrow{a_c}$$"
      ]
    },
    {
      "cell_type": "markdown",
      "metadata": {
        "id": "pVW78xIXmqIO",
        "colab_type": "text"
      },
      "source": [
        "$$sin\\theta=\\frac{opposite}{hypotenuse}$$\n",
        "$$cos\\theta=\\frac{adjacent}{hypotenuse}$$\n",
        "$$tan\\theta=\\frac{opposite}{adjacent}$$"
      ]
    },
    {
      "cell_type": "markdown",
      "metadata": {
        "id": "laadUTnlquuG",
        "colab_type": "text"
      },
      "source": [
        "## 3. Normal force and contact force\n",
        "\n",
        "* for stationary object on the ground, there are gravity downward:\n",
        "$$\\overrightarrow{F_G}=\\overrightarrow{g}\\times{mass}$$\n",
        "* According to Newton's laws of motion, there are also a force to maintain the object from dropping into the ground, which he called 'normal force'.\n",
        "* The normal force is always perpendicular from the surface. So if object stay on a plain surface that parallel with gravity direction:\n",
        "$$\\overrightarrow{F_N}=\\overrightarrow{g}\\times{mass}$$"
      ]
    },
    {
      "cell_type": "markdown",
      "metadata": {
        "id": "3zBb2nMduzk8",
        "colab_type": "text"
      },
      "source": [
        "## 4. Balanced and unbalanced forces\n",
        "* Balanced forces: when there is no net force."
      ]
    },
    {
      "cell_type": "markdown",
      "metadata": {
        "id": "vv_tfxPtv0pL",
        "colab_type": "text"
      },
      "source": [
        "## Newton's first law of motion\n",
        "* Every body persists in its state of being at rest or of moving uniformly straight forward, except insofar as it is compelled to change its state by force impressed\n",
        "\n",
        "## Newton's Second law\n",
        "* $\\Sigma{\\overrightarrow{F}}=m\\overrightarrow{a}$. m stands for mass, a stands for acceleration$\\Sigma{\\overrightarrow{F}}$ is the net force (sum of forces)\n",
        "\n",
        "## Newton's third law\n",
        "* For every force, there is $\\overrightarrow{F_{AB}}=-\\overrightarrow{F_{BA}}$. Means for every force on object A exerted by object B has a opposite force on object B exerted by object A."
      ]
    },
    {
      "cell_type": "markdown",
      "metadata": {
        "id": "K0JCFVrL33Rd",
        "colab_type": "text"
      },
      "source": [
        "## 5. work and energy\n",
        "* Work: energy transferred by a force.\n",
        "* Energy: ablity to do work\n",
        "\n",
        "* Work = Force * Distance\n",
        "> ex: apply 10N of force to move a block 7 meters\n",
        "> work = 10N * 7meters\n",
        "> <br>&nbsp;&nbsp;&nbsp;&nbsp;&nbsp;&nbsp;&nbsp;&nbsp;&nbsp;&nbsp;= 70 N.m\n",
        "> <br>&nbsp;&nbsp;&nbsp;&nbsp;&nbsp;&nbsp;&nbsp;&nbsp;&nbsp;&nbsp;= 70 Joule\n",
        "\n",
        "* Assuming we move a block which has a mass of m with the force F:\n",
        "* According to the equation of constant acceleration, we have:\n",
        "$$\\overrightarrow{V_f}^2=\\overrightarrow{V_i}^2+2d\\cdot{\\overrightarrow{a}}$$\n",
        "since\n",
        "$$w=F\\cdot{d}$$\n",
        "Assuming in this case there is no initial velocity, the equation became:\n",
        "$$\\overrightarrow{V_f}^2=2d\\cdot{\\overrightarrow{a}}$$\n",
        "according to the Newton's second law:\n",
        "$$F=ma\\Rightarrow{a=\\frac{F}{m}}$$\n",
        "so\n",
        "$$\\overrightarrow{V_f}^2=2d\\cdot{\\frac{F}{m}}$$\n",
        "$$\\overrightarrow{V_f}=\\sqrt{2\\cdot{\\frac{F\\cdot{d}}{m}}}$$\n",
        "$$\\overrightarrow{V_f}^2=\\frac{2\\cdot{w}}{m}$$\n",
        "$$2\\cdot{w}=m\\cdot{\\overrightarrow{V_f}^2}$$\n",
        "Thus, we can figure out how much work was imputed into that object to get it to that velocity from stationary by knowing its mass.<br><br>\n",
        "This is called the formula of kinetic energy:\n",
        "$$w=\\frac{m\\cdot{\\overrightarrow{V_f}^2}}{2}$$"
      ]
    }
  ]
}